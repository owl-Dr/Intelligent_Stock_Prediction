{
  "cells": [
    {
      "cell_type": "code",
      "execution_count": 1,
      "id": "0fe18f80",
      "metadata": {
        "id": "0fe18f80"
      },
      "outputs": [],
      "source": [
        "import numpy as np\n",
        "import random\n",
        "import pandas as pd\n",
        "import datetime\n",
        "import math, time\n",
        "import itertools\n",
        "from operator import itemgetter\n",
        "from sklearn.metrics import mean_squared_error\n",
        "from sklearn.preprocessing import MinMaxScaler\n",
        "from math import sqrt\n",
        "import torch\n",
        "import torch.nn as nn\n",
        "from torch.autograd import Variable\n",
        "from tqdm import tqdm\n",
        "import json\n",
        "import matplotlib.pyplot as plt\n",
        "import os"
      ]
    },
    {
      "cell_type": "code",
      "execution_count": 2,
      "id": "YzMZG-Y7D9Q_",
      "metadata": {
        "id": "YzMZG-Y7D9Q_",
        "colab": {
          "base_uri": "https://localhost:8080/"
        },
        "outputId": "85c20698-b68d-450f-fd6f-9da34cfefbae"
      },
      "outputs": [
        {
          "output_type": "stream",
          "name": "stdout",
          "text": [
            "Mounted at /content/drive\n"
          ]
        }
      ],
      "source": [
        "from google.colab import drive\n",
        "drive.mount('/content/drive')\n"
      ]
    },
    {
      "cell_type": "code",
      "execution_count": 3,
      "id": "5a56ee39",
      "metadata": {
        "id": "5a56ee39",
        "colab": {
          "base_uri": "https://localhost:8080/"
        },
        "outputId": "645152a1-7630-4fde-ece3-a6d1357f2db9"
      },
      "outputs": [
        {
          "output_type": "stream",
          "name": "stdout",
          "text": [
            "['ADANIPORTS.csv', 'ASIANPAINT.csv', 'AXISBANK.csv', 'BAJAJ-AUTO.csv', 'BAJAJFINSV.csv', 'BAJFINANCE.csv', 'BHARTIARTL.csv', 'BPCL.csv', 'BRITANNIA.csv', 'CIPLA.csv', 'COALINDIA.csv', 'DRREDDY.csv', 'EICHERMOT.csv', 'GAIL.csv', 'GRASIM.csv', 'HCLTECH.csv', 'HDFC.csv', 'HDFCBANK.csv', 'HEROMOTOCO.csv', 'HINDALCO.csv', 'HINDUNILVR.csv', 'ICICIBANK.csv', 'INDUSINDBK.csv', 'INFRATEL.csv', 'INFY.csv', 'IOC.csv', 'ITC.csv', 'JSWSTEEL.csv', 'KOTAKBANK.csv', 'LT.csv', 'MARUTI.csv', 'MM.csv', 'NESTLEIND.csv', 'NTPC.csv', 'ONGC.csv', 'POWERGRID.csv', 'RELIANCE.csv', 'SBIN.csv', 'SHREECEM.csv', 'SUNPHARMA.csv', 'TATAMOTORS.csv', 'TATASTEEL.csv', 'TCS.csv', 'TECHM.csv', 'TITAN.csv', 'ULTRACEMCO.csv', 'UPL.csv', 'VEDL.csv', 'WIPRO.csv', 'ZEEL.csv']\n"
          ]
        }
      ],
      "source": [
        "dpath = \"/content/drive/My Drive/LAB/data/\"\n",
        "files = os.listdir(dpath)\n",
        "files.sort()\n",
        "print(files)"
      ]
    },
    {
      "cell_type": "code",
      "execution_count": null,
      "id": "KbEqrvXrJRJa",
      "metadata": {
        "id": "KbEqrvXrJRJa"
      },
      "outputs": [],
      "source": [
        "\n",
        "df=pd.read_csv(dpath + files[0]).set_index('Date')\n",
        "df = df[[\"Close\"]]\n",
        "print (type(df))"
      ]
    },
    {
      "cell_type": "code",
      "source": [
        "df.head()"
      ],
      "metadata": {
        "id": "CNZVc6qLwGvT",
        "colab": {
          "base_uri": "https://localhost:8080/",
          "height": 238
        },
        "outputId": "3e439a8e-47da-4e3a-b822-916b2f875f87"
      },
      "id": "CNZVc6qLwGvT",
      "execution_count": 5,
      "outputs": [
        {
          "output_type": "execute_result",
          "data": {
            "text/plain": [
              "             Close\n",
              "Date              \n",
              "2007-11-27  962.90\n",
              "2007-11-28  893.90\n",
              "2007-11-29  884.20\n",
              "2007-11-30  921.55\n",
              "2007-12-03  969.30"
            ],
            "text/html": [
              "\n",
              "  <div id=\"df-188aac2e-21c6-4c92-a843-66dbfdaaa28c\" class=\"colab-df-container\">\n",
              "    <div>\n",
              "<style scoped>\n",
              "    .dataframe tbody tr th:only-of-type {\n",
              "        vertical-align: middle;\n",
              "    }\n",
              "\n",
              "    .dataframe tbody tr th {\n",
              "        vertical-align: top;\n",
              "    }\n",
              "\n",
              "    .dataframe thead th {\n",
              "        text-align: right;\n",
              "    }\n",
              "</style>\n",
              "<table border=\"1\" class=\"dataframe\">\n",
              "  <thead>\n",
              "    <tr style=\"text-align: right;\">\n",
              "      <th></th>\n",
              "      <th>Close</th>\n",
              "    </tr>\n",
              "    <tr>\n",
              "      <th>Date</th>\n",
              "      <th></th>\n",
              "    </tr>\n",
              "  </thead>\n",
              "  <tbody>\n",
              "    <tr>\n",
              "      <th>2007-11-27</th>\n",
              "      <td>962.90</td>\n",
              "    </tr>\n",
              "    <tr>\n",
              "      <th>2007-11-28</th>\n",
              "      <td>893.90</td>\n",
              "    </tr>\n",
              "    <tr>\n",
              "      <th>2007-11-29</th>\n",
              "      <td>884.20</td>\n",
              "    </tr>\n",
              "    <tr>\n",
              "      <th>2007-11-30</th>\n",
              "      <td>921.55</td>\n",
              "    </tr>\n",
              "    <tr>\n",
              "      <th>2007-12-03</th>\n",
              "      <td>969.30</td>\n",
              "    </tr>\n",
              "  </tbody>\n",
              "</table>\n",
              "</div>\n",
              "    <div class=\"colab-df-buttons\">\n",
              "\n",
              "  <div class=\"colab-df-container\">\n",
              "    <button class=\"colab-df-convert\" onclick=\"convertToInteractive('df-188aac2e-21c6-4c92-a843-66dbfdaaa28c')\"\n",
              "            title=\"Convert this dataframe to an interactive table.\"\n",
              "            style=\"display:none;\">\n",
              "\n",
              "  <svg xmlns=\"http://www.w3.org/2000/svg\" height=\"24px\" viewBox=\"0 -960 960 960\">\n",
              "    <path d=\"M120-120v-720h720v720H120Zm60-500h600v-160H180v160Zm220 220h160v-160H400v160Zm0 220h160v-160H400v160ZM180-400h160v-160H180v160Zm440 0h160v-160H620v160ZM180-180h160v-160H180v160Zm440 0h160v-160H620v160Z\"/>\n",
              "  </svg>\n",
              "    </button>\n",
              "\n",
              "  <style>\n",
              "    .colab-df-container {\n",
              "      display:flex;\n",
              "      gap: 12px;\n",
              "    }\n",
              "\n",
              "    .colab-df-convert {\n",
              "      background-color: #E8F0FE;\n",
              "      border: none;\n",
              "      border-radius: 50%;\n",
              "      cursor: pointer;\n",
              "      display: none;\n",
              "      fill: #1967D2;\n",
              "      height: 32px;\n",
              "      padding: 0 0 0 0;\n",
              "      width: 32px;\n",
              "    }\n",
              "\n",
              "    .colab-df-convert:hover {\n",
              "      background-color: #E2EBFA;\n",
              "      box-shadow: 0px 1px 2px rgba(60, 64, 67, 0.3), 0px 1px 3px 1px rgba(60, 64, 67, 0.15);\n",
              "      fill: #174EA6;\n",
              "    }\n",
              "\n",
              "    .colab-df-buttons div {\n",
              "      margin-bottom: 4px;\n",
              "    }\n",
              "\n",
              "    [theme=dark] .colab-df-convert {\n",
              "      background-color: #3B4455;\n",
              "      fill: #D2E3FC;\n",
              "    }\n",
              "\n",
              "    [theme=dark] .colab-df-convert:hover {\n",
              "      background-color: #434B5C;\n",
              "      box-shadow: 0px 1px 3px 1px rgba(0, 0, 0, 0.15);\n",
              "      filter: drop-shadow(0px 1px 2px rgba(0, 0, 0, 0.3));\n",
              "      fill: #FFFFFF;\n",
              "    }\n",
              "  </style>\n",
              "\n",
              "    <script>\n",
              "      const buttonEl =\n",
              "        document.querySelector('#df-188aac2e-21c6-4c92-a843-66dbfdaaa28c button.colab-df-convert');\n",
              "      buttonEl.style.display =\n",
              "        google.colab.kernel.accessAllowed ? 'block' : 'none';\n",
              "\n",
              "      async function convertToInteractive(key) {\n",
              "        const element = document.querySelector('#df-188aac2e-21c6-4c92-a843-66dbfdaaa28c');\n",
              "        const dataTable =\n",
              "          await google.colab.kernel.invokeFunction('convertToInteractive',\n",
              "                                                    [key], {});\n",
              "        if (!dataTable) return;\n",
              "\n",
              "        const docLinkHtml = 'Like what you see? Visit the ' +\n",
              "          '<a target=\"_blank\" href=https://colab.research.google.com/notebooks/data_table.ipynb>data table notebook</a>'\n",
              "          + ' to learn more about interactive tables.';\n",
              "        element.innerHTML = '';\n",
              "        dataTable['output_type'] = 'display_data';\n",
              "        await google.colab.output.renderOutput(dataTable, element);\n",
              "        const docLink = document.createElement('div');\n",
              "        docLink.innerHTML = docLinkHtml;\n",
              "        element.appendChild(docLink);\n",
              "      }\n",
              "    </script>\n",
              "  </div>\n",
              "\n",
              "\n",
              "<div id=\"df-542d463f-1961-4033-a246-991612a900e3\">\n",
              "  <button class=\"colab-df-quickchart\" onclick=\"quickchart('df-542d463f-1961-4033-a246-991612a900e3')\"\n",
              "            title=\"Suggest charts\"\n",
              "            style=\"display:none;\">\n",
              "\n",
              "<svg xmlns=\"http://www.w3.org/2000/svg\" height=\"24px\"viewBox=\"0 0 24 24\"\n",
              "     width=\"24px\">\n",
              "    <g>\n",
              "        <path d=\"M19 3H5c-1.1 0-2 .9-2 2v14c0 1.1.9 2 2 2h14c1.1 0 2-.9 2-2V5c0-1.1-.9-2-2-2zM9 17H7v-7h2v7zm4 0h-2V7h2v10zm4 0h-2v-4h2v4z\"/>\n",
              "    </g>\n",
              "</svg>\n",
              "  </button>\n",
              "\n",
              "<style>\n",
              "  .colab-df-quickchart {\n",
              "      --bg-color: #E8F0FE;\n",
              "      --fill-color: #1967D2;\n",
              "      --hover-bg-color: #E2EBFA;\n",
              "      --hover-fill-color: #174EA6;\n",
              "      --disabled-fill-color: #AAA;\n",
              "      --disabled-bg-color: #DDD;\n",
              "  }\n",
              "\n",
              "  [theme=dark] .colab-df-quickchart {\n",
              "      --bg-color: #3B4455;\n",
              "      --fill-color: #D2E3FC;\n",
              "      --hover-bg-color: #434B5C;\n",
              "      --hover-fill-color: #FFFFFF;\n",
              "      --disabled-bg-color: #3B4455;\n",
              "      --disabled-fill-color: #666;\n",
              "  }\n",
              "\n",
              "  .colab-df-quickchart {\n",
              "    background-color: var(--bg-color);\n",
              "    border: none;\n",
              "    border-radius: 50%;\n",
              "    cursor: pointer;\n",
              "    display: none;\n",
              "    fill: var(--fill-color);\n",
              "    height: 32px;\n",
              "    padding: 0;\n",
              "    width: 32px;\n",
              "  }\n",
              "\n",
              "  .colab-df-quickchart:hover {\n",
              "    background-color: var(--hover-bg-color);\n",
              "    box-shadow: 0 1px 2px rgba(60, 64, 67, 0.3), 0 1px 3px 1px rgba(60, 64, 67, 0.15);\n",
              "    fill: var(--button-hover-fill-color);\n",
              "  }\n",
              "\n",
              "  .colab-df-quickchart-complete:disabled,\n",
              "  .colab-df-quickchart-complete:disabled:hover {\n",
              "    background-color: var(--disabled-bg-color);\n",
              "    fill: var(--disabled-fill-color);\n",
              "    box-shadow: none;\n",
              "  }\n",
              "\n",
              "  .colab-df-spinner {\n",
              "    border: 2px solid var(--fill-color);\n",
              "    border-color: transparent;\n",
              "    border-bottom-color: var(--fill-color);\n",
              "    animation:\n",
              "      spin 1s steps(1) infinite;\n",
              "  }\n",
              "\n",
              "  @keyframes spin {\n",
              "    0% {\n",
              "      border-color: transparent;\n",
              "      border-bottom-color: var(--fill-color);\n",
              "      border-left-color: var(--fill-color);\n",
              "    }\n",
              "    20% {\n",
              "      border-color: transparent;\n",
              "      border-left-color: var(--fill-color);\n",
              "      border-top-color: var(--fill-color);\n",
              "    }\n",
              "    30% {\n",
              "      border-color: transparent;\n",
              "      border-left-color: var(--fill-color);\n",
              "      border-top-color: var(--fill-color);\n",
              "      border-right-color: var(--fill-color);\n",
              "    }\n",
              "    40% {\n",
              "      border-color: transparent;\n",
              "      border-right-color: var(--fill-color);\n",
              "      border-top-color: var(--fill-color);\n",
              "    }\n",
              "    60% {\n",
              "      border-color: transparent;\n",
              "      border-right-color: var(--fill-color);\n",
              "    }\n",
              "    80% {\n",
              "      border-color: transparent;\n",
              "      border-right-color: var(--fill-color);\n",
              "      border-bottom-color: var(--fill-color);\n",
              "    }\n",
              "    90% {\n",
              "      border-color: transparent;\n",
              "      border-bottom-color: var(--fill-color);\n",
              "    }\n",
              "  }\n",
              "</style>\n",
              "\n",
              "  <script>\n",
              "    async function quickchart(key) {\n",
              "      const quickchartButtonEl =\n",
              "        document.querySelector('#' + key + ' button');\n",
              "      quickchartButtonEl.disabled = true;  // To prevent multiple clicks.\n",
              "      quickchartButtonEl.classList.add('colab-df-spinner');\n",
              "      try {\n",
              "        const charts = await google.colab.kernel.invokeFunction(\n",
              "            'suggestCharts', [key], {});\n",
              "      } catch (error) {\n",
              "        console.error('Error during call to suggestCharts:', error);\n",
              "      }\n",
              "      quickchartButtonEl.classList.remove('colab-df-spinner');\n",
              "      quickchartButtonEl.classList.add('colab-df-quickchart-complete');\n",
              "    }\n",
              "    (() => {\n",
              "      let quickchartButtonEl =\n",
              "        document.querySelector('#df-542d463f-1961-4033-a246-991612a900e3 button');\n",
              "      quickchartButtonEl.style.display =\n",
              "        google.colab.kernel.accessAllowed ? 'block' : 'none';\n",
              "    })();\n",
              "  </script>\n",
              "</div>\n",
              "\n",
              "    </div>\n",
              "  </div>\n"
            ],
            "application/vnd.google.colaboratory.intrinsic+json": {
              "type": "dataframe",
              "variable_name": "df",
              "summary": "{\n  \"name\": \"df\",\n  \"rows\": 3322,\n  \"fields\": [\n    {\n      \"column\": \"Date\",\n      \"properties\": {\n        \"dtype\": \"object\",\n        \"num_unique_values\": 3322,\n        \"samples\": [\n          \"2012-03-06\",\n          \"2011-03-14\",\n          \"2018-08-21\"\n        ],\n        \"semantic_type\": \"\",\n        \"description\": \"\"\n      }\n    },\n    {\n      \"column\": \"Close\",\n      \"properties\": {\n        \"dtype\": \"number\",\n        \"std\": 634.6947932877362,\n        \"min\": 257.95,\n        \"max\": 4177.75,\n        \"num_unique_values\": 2690,\n        \"samples\": [\n          1473.0,\n          1729.25,\n          617.7\n        ],\n        \"semantic_type\": \"\",\n        \"description\": \"\"\n      }\n    }\n  ]\n}"
            }
          },
          "metadata": {},
          "execution_count": 5
        }
      ]
    },
    {
      "cell_type": "code",
      "source": [
        "scaler = MinMaxScaler(feature_range=(-1, 1))\n",
        "df['Close'] = scaler.fit_transform(df['Close'].values.reshape(-1,1))"
      ],
      "metadata": {
        "id": "WqRevjuMwlU2"
      },
      "id": "WqRevjuMwlU2",
      "execution_count": 6,
      "outputs": []
    },
    {
      "cell_type": "code",
      "source": [
        "df.head()\n",
        "# print (type(df))"
      ],
      "metadata": {
        "id": "RyAw_sujwpg_",
        "colab": {
          "base_uri": "https://localhost:8080/",
          "height": 238
        },
        "outputId": "db2ced4e-e85c-413b-abf6-47430b0efd2d"
      },
      "id": "RyAw_sujwpg_",
      "execution_count": 7,
      "outputs": [
        {
          "output_type": "execute_result",
          "data": {
            "text/plain": [
              "               Close\n",
              "Date                \n",
              "2007-11-27 -0.640313\n",
              "2007-11-28 -0.675519\n",
              "2007-11-29 -0.680468\n",
              "2007-11-30 -0.661411\n",
              "2007-12-03 -0.637048"
            ],
            "text/html": [
              "\n",
              "  <div id=\"df-86c6fb6a-5aac-44bb-9e3c-b426447bf44d\" class=\"colab-df-container\">\n",
              "    <div>\n",
              "<style scoped>\n",
              "    .dataframe tbody tr th:only-of-type {\n",
              "        vertical-align: middle;\n",
              "    }\n",
              "\n",
              "    .dataframe tbody tr th {\n",
              "        vertical-align: top;\n",
              "    }\n",
              "\n",
              "    .dataframe thead th {\n",
              "        text-align: right;\n",
              "    }\n",
              "</style>\n",
              "<table border=\"1\" class=\"dataframe\">\n",
              "  <thead>\n",
              "    <tr style=\"text-align: right;\">\n",
              "      <th></th>\n",
              "      <th>Close</th>\n",
              "    </tr>\n",
              "    <tr>\n",
              "      <th>Date</th>\n",
              "      <th></th>\n",
              "    </tr>\n",
              "  </thead>\n",
              "  <tbody>\n",
              "    <tr>\n",
              "      <th>2007-11-27</th>\n",
              "      <td>-0.640313</td>\n",
              "    </tr>\n",
              "    <tr>\n",
              "      <th>2007-11-28</th>\n",
              "      <td>-0.675519</td>\n",
              "    </tr>\n",
              "    <tr>\n",
              "      <th>2007-11-29</th>\n",
              "      <td>-0.680468</td>\n",
              "    </tr>\n",
              "    <tr>\n",
              "      <th>2007-11-30</th>\n",
              "      <td>-0.661411</td>\n",
              "    </tr>\n",
              "    <tr>\n",
              "      <th>2007-12-03</th>\n",
              "      <td>-0.637048</td>\n",
              "    </tr>\n",
              "  </tbody>\n",
              "</table>\n",
              "</div>\n",
              "    <div class=\"colab-df-buttons\">\n",
              "\n",
              "  <div class=\"colab-df-container\">\n",
              "    <button class=\"colab-df-convert\" onclick=\"convertToInteractive('df-86c6fb6a-5aac-44bb-9e3c-b426447bf44d')\"\n",
              "            title=\"Convert this dataframe to an interactive table.\"\n",
              "            style=\"display:none;\">\n",
              "\n",
              "  <svg xmlns=\"http://www.w3.org/2000/svg\" height=\"24px\" viewBox=\"0 -960 960 960\">\n",
              "    <path d=\"M120-120v-720h720v720H120Zm60-500h600v-160H180v160Zm220 220h160v-160H400v160Zm0 220h160v-160H400v160ZM180-400h160v-160H180v160Zm440 0h160v-160H620v160ZM180-180h160v-160H180v160Zm440 0h160v-160H620v160Z\"/>\n",
              "  </svg>\n",
              "    </button>\n",
              "\n",
              "  <style>\n",
              "    .colab-df-container {\n",
              "      display:flex;\n",
              "      gap: 12px;\n",
              "    }\n",
              "\n",
              "    .colab-df-convert {\n",
              "      background-color: #E8F0FE;\n",
              "      border: none;\n",
              "      border-radius: 50%;\n",
              "      cursor: pointer;\n",
              "      display: none;\n",
              "      fill: #1967D2;\n",
              "      height: 32px;\n",
              "      padding: 0 0 0 0;\n",
              "      width: 32px;\n",
              "    }\n",
              "\n",
              "    .colab-df-convert:hover {\n",
              "      background-color: #E2EBFA;\n",
              "      box-shadow: 0px 1px 2px rgba(60, 64, 67, 0.3), 0px 1px 3px 1px rgba(60, 64, 67, 0.15);\n",
              "      fill: #174EA6;\n",
              "    }\n",
              "\n",
              "    .colab-df-buttons div {\n",
              "      margin-bottom: 4px;\n",
              "    }\n",
              "\n",
              "    [theme=dark] .colab-df-convert {\n",
              "      background-color: #3B4455;\n",
              "      fill: #D2E3FC;\n",
              "    }\n",
              "\n",
              "    [theme=dark] .colab-df-convert:hover {\n",
              "      background-color: #434B5C;\n",
              "      box-shadow: 0px 1px 3px 1px rgba(0, 0, 0, 0.15);\n",
              "      filter: drop-shadow(0px 1px 2px rgba(0, 0, 0, 0.3));\n",
              "      fill: #FFFFFF;\n",
              "    }\n",
              "  </style>\n",
              "\n",
              "    <script>\n",
              "      const buttonEl =\n",
              "        document.querySelector('#df-86c6fb6a-5aac-44bb-9e3c-b426447bf44d button.colab-df-convert');\n",
              "      buttonEl.style.display =\n",
              "        google.colab.kernel.accessAllowed ? 'block' : 'none';\n",
              "\n",
              "      async function convertToInteractive(key) {\n",
              "        const element = document.querySelector('#df-86c6fb6a-5aac-44bb-9e3c-b426447bf44d');\n",
              "        const dataTable =\n",
              "          await google.colab.kernel.invokeFunction('convertToInteractive',\n",
              "                                                    [key], {});\n",
              "        if (!dataTable) return;\n",
              "\n",
              "        const docLinkHtml = 'Like what you see? Visit the ' +\n",
              "          '<a target=\"_blank\" href=https://colab.research.google.com/notebooks/data_table.ipynb>data table notebook</a>'\n",
              "          + ' to learn more about interactive tables.';\n",
              "        element.innerHTML = '';\n",
              "        dataTable['output_type'] = 'display_data';\n",
              "        await google.colab.output.renderOutput(dataTable, element);\n",
              "        const docLink = document.createElement('div');\n",
              "        docLink.innerHTML = docLinkHtml;\n",
              "        element.appendChild(docLink);\n",
              "      }\n",
              "    </script>\n",
              "  </div>\n",
              "\n",
              "\n",
              "<div id=\"df-efdffec2-dd19-4244-bb9b-d2dfc7fab6b4\">\n",
              "  <button class=\"colab-df-quickchart\" onclick=\"quickchart('df-efdffec2-dd19-4244-bb9b-d2dfc7fab6b4')\"\n",
              "            title=\"Suggest charts\"\n",
              "            style=\"display:none;\">\n",
              "\n",
              "<svg xmlns=\"http://www.w3.org/2000/svg\" height=\"24px\"viewBox=\"0 0 24 24\"\n",
              "     width=\"24px\">\n",
              "    <g>\n",
              "        <path d=\"M19 3H5c-1.1 0-2 .9-2 2v14c0 1.1.9 2 2 2h14c1.1 0 2-.9 2-2V5c0-1.1-.9-2-2-2zM9 17H7v-7h2v7zm4 0h-2V7h2v10zm4 0h-2v-4h2v4z\"/>\n",
              "    </g>\n",
              "</svg>\n",
              "  </button>\n",
              "\n",
              "<style>\n",
              "  .colab-df-quickchart {\n",
              "      --bg-color: #E8F0FE;\n",
              "      --fill-color: #1967D2;\n",
              "      --hover-bg-color: #E2EBFA;\n",
              "      --hover-fill-color: #174EA6;\n",
              "      --disabled-fill-color: #AAA;\n",
              "      --disabled-bg-color: #DDD;\n",
              "  }\n",
              "\n",
              "  [theme=dark] .colab-df-quickchart {\n",
              "      --bg-color: #3B4455;\n",
              "      --fill-color: #D2E3FC;\n",
              "      --hover-bg-color: #434B5C;\n",
              "      --hover-fill-color: #FFFFFF;\n",
              "      --disabled-bg-color: #3B4455;\n",
              "      --disabled-fill-color: #666;\n",
              "  }\n",
              "\n",
              "  .colab-df-quickchart {\n",
              "    background-color: var(--bg-color);\n",
              "    border: none;\n",
              "    border-radius: 50%;\n",
              "    cursor: pointer;\n",
              "    display: none;\n",
              "    fill: var(--fill-color);\n",
              "    height: 32px;\n",
              "    padding: 0;\n",
              "    width: 32px;\n",
              "  }\n",
              "\n",
              "  .colab-df-quickchart:hover {\n",
              "    background-color: var(--hover-bg-color);\n",
              "    box-shadow: 0 1px 2px rgba(60, 64, 67, 0.3), 0 1px 3px 1px rgba(60, 64, 67, 0.15);\n",
              "    fill: var(--button-hover-fill-color);\n",
              "  }\n",
              "\n",
              "  .colab-df-quickchart-complete:disabled,\n",
              "  .colab-df-quickchart-complete:disabled:hover {\n",
              "    background-color: var(--disabled-bg-color);\n",
              "    fill: var(--disabled-fill-color);\n",
              "    box-shadow: none;\n",
              "  }\n",
              "\n",
              "  .colab-df-spinner {\n",
              "    border: 2px solid var(--fill-color);\n",
              "    border-color: transparent;\n",
              "    border-bottom-color: var(--fill-color);\n",
              "    animation:\n",
              "      spin 1s steps(1) infinite;\n",
              "  }\n",
              "\n",
              "  @keyframes spin {\n",
              "    0% {\n",
              "      border-color: transparent;\n",
              "      border-bottom-color: var(--fill-color);\n",
              "      border-left-color: var(--fill-color);\n",
              "    }\n",
              "    20% {\n",
              "      border-color: transparent;\n",
              "      border-left-color: var(--fill-color);\n",
              "      border-top-color: var(--fill-color);\n",
              "    }\n",
              "    30% {\n",
              "      border-color: transparent;\n",
              "      border-left-color: var(--fill-color);\n",
              "      border-top-color: var(--fill-color);\n",
              "      border-right-color: var(--fill-color);\n",
              "    }\n",
              "    40% {\n",
              "      border-color: transparent;\n",
              "      border-right-color: var(--fill-color);\n",
              "      border-top-color: var(--fill-color);\n",
              "    }\n",
              "    60% {\n",
              "      border-color: transparent;\n",
              "      border-right-color: var(--fill-color);\n",
              "    }\n",
              "    80% {\n",
              "      border-color: transparent;\n",
              "      border-right-color: var(--fill-color);\n",
              "      border-bottom-color: var(--fill-color);\n",
              "    }\n",
              "    90% {\n",
              "      border-color: transparent;\n",
              "      border-bottom-color: var(--fill-color);\n",
              "    }\n",
              "  }\n",
              "</style>\n",
              "\n",
              "  <script>\n",
              "    async function quickchart(key) {\n",
              "      const quickchartButtonEl =\n",
              "        document.querySelector('#' + key + ' button');\n",
              "      quickchartButtonEl.disabled = true;  // To prevent multiple clicks.\n",
              "      quickchartButtonEl.classList.add('colab-df-spinner');\n",
              "      try {\n",
              "        const charts = await google.colab.kernel.invokeFunction(\n",
              "            'suggestCharts', [key], {});\n",
              "      } catch (error) {\n",
              "        console.error('Error during call to suggestCharts:', error);\n",
              "      }\n",
              "      quickchartButtonEl.classList.remove('colab-df-spinner');\n",
              "      quickchartButtonEl.classList.add('colab-df-quickchart-complete');\n",
              "    }\n",
              "    (() => {\n",
              "      let quickchartButtonEl =\n",
              "        document.querySelector('#df-efdffec2-dd19-4244-bb9b-d2dfc7fab6b4 button');\n",
              "      quickchartButtonEl.style.display =\n",
              "        google.colab.kernel.accessAllowed ? 'block' : 'none';\n",
              "    })();\n",
              "  </script>\n",
              "</div>\n",
              "\n",
              "    </div>\n",
              "  </div>\n"
            ],
            "application/vnd.google.colaboratory.intrinsic+json": {
              "type": "dataframe",
              "summary": "{\n  \"name\": \"# print (type(df))\",\n  \"rows\": 5,\n  \"fields\": [\n    {\n      \"column\": \"Date\",\n      \"properties\": {\n        \"dtype\": \"object\",\n        \"num_unique_values\": 5,\n        \"samples\": [\n          \"2007-11-28\",\n          \"2007-12-03\",\n          \"2007-11-29\"\n        ],\n        \"semantic_type\": \"\",\n        \"description\": \"\"\n      }\n    },\n    {\n      \"column\": \"Close\",\n      \"properties\": {\n        \"dtype\": \"number\",\n        \"std\": 0.019815836035549705,\n        \"min\": -0.6804683912444511,\n        \"max\": -0.6370478085616612,\n        \"num_unique_values\": 5,\n        \"samples\": [\n          -0.6755191591407723,\n          -0.6370478085616612,\n          -0.6804683912444511\n        ],\n        \"semantic_type\": \"\",\n        \"description\": \"\"\n      }\n    }\n  ]\n}"
            }
          },
          "metadata": {},
          "execution_count": 7
        }
      ]
    },
    {
      "cell_type": "code",
      "execution_count": 8,
      "id": "d3a56355",
      "metadata": {
        "id": "d3a56355"
      },
      "outputs": [],
      "source": [
        "def load_data(stock, look_back=5):\n",
        "    data_raw = stock.values #used with pandas DataFrames & Series to access the underlying NumPy array of the data\n",
        "    data = []\n",
        "\n",
        "    for index in range(len(data_raw) - look_back):\n",
        "        data.append(data_raw[index: index + look_back])\n",
        "\n",
        "    # print(len(data))\n",
        "    # print(data[0])\n",
        "\n",
        "    data = np.array(data);\n",
        "    test_set_size = int(np.round(0.2*data.shape[0]));\n",
        "    train_set_size = data.shape[0] - (test_set_size);\n",
        "\n",
        "    x_train = data[:train_set_size,:-1,:]\n",
        "    y_train = data[:train_set_size,-1,:]\n",
        "\n",
        "    x_test = data[train_set_size:,:-1]\n",
        "    y_test = data[train_set_size:,-1,:]\n",
        "\n",
        "    return [x_train, y_train, x_test, y_test]"
      ]
    },
    {
      "cell_type": "code",
      "execution_count": 9,
      "id": "3735c837",
      "metadata": {
        "id": "3735c837"
      },
      "outputs": [],
      "source": [
        "#test data it is working fine or not\n",
        "x_train, y_train, x_test, y_test = load_data(df)"
      ]
    },
    {
      "cell_type": "code",
      "execution_count": 10,
      "id": "q9jCCrHxOuOH",
      "metadata": {
        "id": "q9jCCrHxOuOH",
        "colab": {
          "base_uri": "https://localhost:8080/"
        },
        "outputId": "4c54c15c-df70-4f60-d3e2-037d4160ac24"
      },
      "outputs": [
        {
          "output_type": "stream",
          "name": "stdout",
          "text": [
            "(2654, 4, 1)\n",
            "(2654, 1)\n",
            "(663, 4, 1)\n",
            "(663, 1)\n"
          ]
        }
      ],
      "source": [
        "print(x_train.shape)\n",
        "print(y_train.shape)\n",
        "print(x_test.shape)\n",
        "print(y_test.shape)\n",
        "\n",
        "# we have nd array in x_train , y_train , x_test , y_test"
      ]
    },
    {
      "cell_type": "code",
      "source": [
        "x_train = torch.from_numpy(x_train).type(torch.Tensor)\n",
        "x_test = torch.from_numpy(x_test).type(torch.Tensor)\n",
        "y_train = torch.from_numpy(y_train).type(torch.Tensor)\n",
        "y_test = torch.from_numpy(y_test).type(torch.Tensor)"
      ],
      "metadata": {
        "id": "3aT0B77W1V8h"
      },
      "id": "3aT0B77W1V8h",
      "execution_count": 11,
      "outputs": []
    },
    {
      "cell_type": "code",
      "source": [
        "print(type(x_train))"
      ],
      "metadata": {
        "id": "D1Fv_axe1ag4",
        "colab": {
          "base_uri": "https://localhost:8080/"
        },
        "outputId": "641ebb26-13f5-469b-a366-57ef9b169e53"
      },
      "id": "D1Fv_axe1ag4",
      "execution_count": 12,
      "outputs": [
        {
          "output_type": "stream",
          "name": "stdout",
          "text": [
            "<class 'torch.Tensor'>\n"
          ]
        }
      ]
    },
    {
      "cell_type": "markdown",
      "source": [
        "## MODEL"
      ],
      "metadata": {
        "id": "s6qkoTcwVy8U"
      },
      "id": "s6qkoTcwVy8U"
    },
    {
      "cell_type": "code",
      "source": [
        "print(x_train.shape)\n",
        "print(y_train.shape)"
      ],
      "metadata": {
        "id": "ukWQt75SB49n",
        "colab": {
          "base_uri": "https://localhost:8080/"
        },
        "outputId": "c6b80fba-854e-4b48-aabb-61824a7ad1da"
      },
      "id": "ukWQt75SB49n",
      "execution_count": 13,
      "outputs": [
        {
          "output_type": "stream",
          "name": "stdout",
          "text": [
            "torch.Size([2654, 4, 1])\n",
            "torch.Size([2654, 1])\n"
          ]
        }
      ]
    },
    {
      "cell_type": "markdown",
      "source": [],
      "metadata": {
        "id": "i1Flf41K7V9Q"
      },
      "id": "i1Flf41K7V9Q"
    },
    {
      "cell_type": "code",
      "execution_count": 14,
      "id": "IYN2VFttC05W",
      "metadata": {
        "collapsed": true,
        "id": "IYN2VFttC05W",
        "colab": {
          "base_uri": "https://localhost:8080/"
        },
        "outputId": "b26f1002-35ea-4126-d670-2d4242db83f9"
      },
      "outputs": [
        {
          "output_type": "stream",
          "name": "stderr",
          "text": [
            "/usr/local/lib/python3.10/dist-packages/torch/nn/modules/transformer.py:307: UserWarning: enable_nested_tensor is True, but self.use_nested_tensor is False because encoder_layer.self_attn.batch_first was not True(use batch_first for better inference performance)\n",
            "  warnings.warn(f\"enable_nested_tensor is True, but self.use_nested_tensor is False because {why_not_sparsity_fast_path}\")\n"
          ]
        }
      ],
      "source": [
        "import torch\n",
        "import torch.nn as nn\n",
        "\n",
        "class StockPriceTransformer(nn.Module):\n",
        "    def __init__(self, d_model=64, nhead=4, num_encoder_layers=2, dim_feedforward=128, dropout=0.1):\n",
        "        super(StockPriceTransformer, self).__init__()\n",
        "\n",
        "        self.d_model = d_model\n",
        "        self.pos_encoder = nn.Parameter(torch.zeros(1, 4, d_model))  # Sequence length is 4\n",
        "\n",
        "        # Directly project input to d_model dimensions\n",
        "        self.input_proj = nn.Linear(1, d_model)\n",
        "\n",
        "        encoder_layers = nn.TransformerEncoderLayer(d_model, nhead, dim_feedforward, dropout)\n",
        "        self.transformer_encoder = nn.TransformerEncoder(encoder_layers, num_encoder_layers)\n",
        "\n",
        "        self.fc_out = nn.Linear(d_model, 1)  # Output dimension is 1 (predicting the next day's price)\n",
        "\n",
        "    def forward(self, src):\n",
        "        src = self.input_proj(src) * torch.sqrt(torch.tensor(self.d_model, dtype=torch.float32))\n",
        "        src = src + self.pos_encoder\n",
        "        output = self.transformer_encoder(src)\n",
        "        output = self.fc_out(output[:, -1, :])  # Take the output corresponding to the last day\n",
        "        return output\n",
        "\n",
        "# Model instantiation\n",
        "d_model = 64\n",
        "nhead = 4\n",
        "num_encoder_layers = 2\n",
        "dim_feedforward = 128\n",
        "dropout = 0.1\n",
        "\n",
        "model = StockPriceTransformer(d_model, nhead, num_encoder_layers, dim_feedforward, dropout)\n"
      ]
    },
    {
      "cell_type": "code",
      "execution_count": 15,
      "id": "35789a0f",
      "metadata": {
        "id": "35789a0f"
      },
      "outputs": [],
      "source": [
        "from sklearn.metrics import mean_absolute_error\n",
        "from sklearn.metrics import mean_squared_error"
      ]
    },
    {
      "cell_type": "code",
      "execution_count": 16,
      "id": "947bb575",
      "metadata": {
        "collapsed": true,
        "id": "947bb575",
        "colab": {
          "base_uri": "https://localhost:8080/",
          "height": 393
        },
        "outputId": "38149e7b-eaed-4b65-d881-f6bb2c8e3c8b"
      },
      "outputs": [
        {
          "output_type": "stream",
          "name": "stderr",
          "text": [
            "\r  0%|          | 0/50 [00:00<?, ?it/s]"
          ]
        },
        {
          "output_type": "stream",
          "name": "stdout",
          "text": []
        },
        {
          "output_type": "stream",
          "name": "stderr",
          "text": [
            "\r  2%|▏         | 1/50 [00:29<24:11, 29.62s/it]"
          ]
        },
        {
          "output_type": "stream",
          "name": "stdout",
          "text": []
        },
        {
          "output_type": "stream",
          "name": "stderr",
          "text": [
            "\r  4%|▍         | 2/50 [01:46<46:05, 57.62s/it]"
          ]
        },
        {
          "output_type": "stream",
          "name": "stdout",
          "text": []
        },
        {
          "output_type": "stream",
          "name": "stderr",
          "text": [
            "\r  6%|▌         | 3/50 [03:05<52:41, 67.27s/it]"
          ]
        },
        {
          "output_type": "stream",
          "name": "stdout",
          "text": []
        },
        {
          "output_type": "stream",
          "name": "stderr",
          "text": [
            "\r  8%|▊         | 4/50 [03:33<39:40, 51.76s/it]"
          ]
        },
        {
          "output_type": "stream",
          "name": "stdout",
          "text": []
        },
        {
          "output_type": "stream",
          "name": "stderr",
          "text": [
            "\r 10%|█         | 5/50 [04:07<33:56, 45.27s/it]"
          ]
        },
        {
          "output_type": "stream",
          "name": "stdout",
          "text": []
        },
        {
          "output_type": "stream",
          "name": "stderr",
          "text": [
            "\r 12%|█▏        | 6/50 [05:23<40:53, 55.76s/it]"
          ]
        },
        {
          "output_type": "stream",
          "name": "stdout",
          "text": []
        },
        {
          "output_type": "stream",
          "name": "stderr",
          "text": [
            "\r 14%|█▍        | 7/50 [06:20<40:14, 56.15s/it]"
          ]
        },
        {
          "output_type": "stream",
          "name": "stdout",
          "text": []
        },
        {
          "output_type": "stream",
          "name": "stderr",
          "text": [
            "\r 16%|█▌        | 8/50 [07:34<43:20, 61.91s/it]"
          ]
        },
        {
          "output_type": "stream",
          "name": "stdout",
          "text": []
        },
        {
          "output_type": "stream",
          "name": "stderr",
          "text": [
            "\r 18%|█▊        | 9/50 [08:39<43:00, 62.93s/it]"
          ]
        },
        {
          "output_type": "stream",
          "name": "stdout",
          "text": []
        },
        {
          "output_type": "stream",
          "name": "stderr",
          "text": [
            "\r 20%|██        | 10/50 [09:48<43:11, 64.79s/it]"
          ]
        },
        {
          "output_type": "stream",
          "name": "stdout",
          "text": []
        },
        {
          "output_type": "stream",
          "name": "stderr",
          "text": [
            "\r 22%|██▏       | 11/50 [10:05<32:38, 50.21s/it]"
          ]
        },
        {
          "output_type": "stream",
          "name": "stdout",
          "text": []
        },
        {
          "output_type": "stream",
          "name": "stderr",
          "text": [
            "\r 24%|██▍       | 12/50 [11:13<35:14, 55.64s/it]"
          ]
        },
        {
          "output_type": "stream",
          "name": "stdout",
          "text": []
        },
        {
          "output_type": "stream",
          "name": "stderr",
          "text": [
            "\r 26%|██▌       | 13/50 [12:22<36:47, 59.66s/it]"
          ]
        },
        {
          "output_type": "stream",
          "name": "stdout",
          "text": []
        },
        {
          "output_type": "stream",
          "name": "stderr",
          "text": [
            "\r 28%|██▊       | 14/50 [13:24<36:04, 60.14s/it]"
          ]
        },
        {
          "output_type": "stream",
          "name": "stdout",
          "text": []
        },
        {
          "output_type": "stream",
          "name": "stderr",
          "text": [
            "\r 30%|███       | 15/50 [14:35<36:58, 63.40s/it]"
          ]
        },
        {
          "output_type": "stream",
          "name": "stdout",
          "text": []
        },
        {
          "output_type": "stream",
          "name": "stderr",
          "text": [
            "\r 32%|███▏      | 16/50 [15:47<37:25, 66.06s/it]"
          ]
        },
        {
          "output_type": "stream",
          "name": "stdout",
          "text": []
        },
        {
          "output_type": "stream",
          "name": "stderr",
          "text": [
            "\r 34%|███▍      | 17/50 [16:58<37:11, 67.63s/it]"
          ]
        },
        {
          "output_type": "stream",
          "name": "stdout",
          "text": []
        },
        {
          "output_type": "stream",
          "name": "stderr",
          "text": [
            "\r 36%|███▌      | 18/50 [18:19<38:06, 71.47s/it]"
          ]
        },
        {
          "output_type": "stream",
          "name": "stdout",
          "text": []
        },
        {
          "output_type": "stream",
          "name": "stderr",
          "text": [
            "\r 38%|███▊      | 19/50 [19:25<36:12, 70.09s/it]"
          ]
        },
        {
          "output_type": "stream",
          "name": "stdout",
          "text": []
        },
        {
          "output_type": "stream",
          "name": "stderr",
          "text": [
            "\r 40%|████      | 20/50 [20:36<35:11, 70.38s/it]"
          ]
        },
        {
          "output_type": "stream",
          "name": "stdout",
          "text": []
        },
        {
          "output_type": "stream",
          "name": "stderr",
          "text": [
            "\r 42%|████▏     | 21/50 [21:50<34:32, 71.47s/it]"
          ]
        },
        {
          "output_type": "stream",
          "name": "stdout",
          "text": []
        },
        {
          "output_type": "stream",
          "name": "stderr",
          "text": [
            "\r 42%|████▏     | 21/50 [23:00<31:46, 65.74s/it]\n"
          ]
        },
        {
          "output_type": "error",
          "ename": "KeyboardInterrupt",
          "evalue": "",
          "traceback": [
            "\u001b[0;31m---------------------------------------------------------------------------\u001b[0m",
            "\u001b[0;31mKeyboardInterrupt\u001b[0m                         Traceback (most recent call last)",
            "\u001b[0;32m<ipython-input-16-6009e5d6d26c>\u001b[0m in \u001b[0;36m<cell line: 26>\u001b[0;34m()\u001b[0m\n\u001b[1;32m     58\u001b[0m \u001b[0;34m\u001b[0m\u001b[0m\n\u001b[1;32m     59\u001b[0m             \u001b[0;31m# Backward pass and optimize\u001b[0m\u001b[0;34m\u001b[0m\u001b[0;34m\u001b[0m\u001b[0m\n\u001b[0;32m---> 60\u001b[0;31m             \u001b[0mloss\u001b[0m\u001b[0;34m.\u001b[0m\u001b[0mbackward\u001b[0m\u001b[0;34m(\u001b[0m\u001b[0;34m)\u001b[0m\u001b[0;34m\u001b[0m\u001b[0;34m\u001b[0m\u001b[0m\n\u001b[0m\u001b[1;32m     61\u001b[0m             \u001b[0moptimiser\u001b[0m\u001b[0;34m.\u001b[0m\u001b[0mstep\u001b[0m\u001b[0;34m(\u001b[0m\u001b[0;34m)\u001b[0m\u001b[0;34m\u001b[0m\u001b[0;34m\u001b[0m\u001b[0m\n\u001b[1;32m     62\u001b[0m \u001b[0;34m\u001b[0m\u001b[0m\n",
            "\u001b[0;32m/usr/local/lib/python3.10/dist-packages/torch/_tensor.py\u001b[0m in \u001b[0;36mbackward\u001b[0;34m(self, gradient, retain_graph, create_graph, inputs)\u001b[0m\n\u001b[1;32m    519\u001b[0m                 \u001b[0minputs\u001b[0m\u001b[0;34m=\u001b[0m\u001b[0minputs\u001b[0m\u001b[0;34m,\u001b[0m\u001b[0;34m\u001b[0m\u001b[0;34m\u001b[0m\u001b[0m\n\u001b[1;32m    520\u001b[0m             )\n\u001b[0;32m--> 521\u001b[0;31m         torch.autograd.backward(\n\u001b[0m\u001b[1;32m    522\u001b[0m             \u001b[0mself\u001b[0m\u001b[0;34m,\u001b[0m \u001b[0mgradient\u001b[0m\u001b[0;34m,\u001b[0m \u001b[0mretain_graph\u001b[0m\u001b[0;34m,\u001b[0m \u001b[0mcreate_graph\u001b[0m\u001b[0;34m,\u001b[0m \u001b[0minputs\u001b[0m\u001b[0;34m=\u001b[0m\u001b[0minputs\u001b[0m\u001b[0;34m\u001b[0m\u001b[0;34m\u001b[0m\u001b[0m\n\u001b[1;32m    523\u001b[0m         )\n",
            "\u001b[0;32m/usr/local/lib/python3.10/dist-packages/torch/autograd/__init__.py\u001b[0m in \u001b[0;36mbackward\u001b[0;34m(tensors, grad_tensors, retain_graph, create_graph, grad_variables, inputs)\u001b[0m\n\u001b[1;32m    287\u001b[0m     \u001b[0;31m# some Python versions print out the first line of a multi-line function\u001b[0m\u001b[0;34m\u001b[0m\u001b[0;34m\u001b[0m\u001b[0m\n\u001b[1;32m    288\u001b[0m     \u001b[0;31m# calls in the traceback and some print out the last line\u001b[0m\u001b[0;34m\u001b[0m\u001b[0;34m\u001b[0m\u001b[0m\n\u001b[0;32m--> 289\u001b[0;31m     _engine_run_backward(\n\u001b[0m\u001b[1;32m    290\u001b[0m         \u001b[0mtensors\u001b[0m\u001b[0;34m,\u001b[0m\u001b[0;34m\u001b[0m\u001b[0;34m\u001b[0m\u001b[0m\n\u001b[1;32m    291\u001b[0m         \u001b[0mgrad_tensors_\u001b[0m\u001b[0;34m,\u001b[0m\u001b[0;34m\u001b[0m\u001b[0;34m\u001b[0m\u001b[0m\n",
            "\u001b[0;32m/usr/local/lib/python3.10/dist-packages/torch/autograd/graph.py\u001b[0m in \u001b[0;36m_engine_run_backward\u001b[0;34m(t_outputs, *args, **kwargs)\u001b[0m\n\u001b[1;32m    766\u001b[0m         \u001b[0munregister_hooks\u001b[0m \u001b[0;34m=\u001b[0m \u001b[0m_register_logging_hooks_on_whole_graph\u001b[0m\u001b[0;34m(\u001b[0m\u001b[0mt_outputs\u001b[0m\u001b[0;34m)\u001b[0m\u001b[0;34m\u001b[0m\u001b[0;34m\u001b[0m\u001b[0m\n\u001b[1;32m    767\u001b[0m     \u001b[0;32mtry\u001b[0m\u001b[0;34m:\u001b[0m\u001b[0;34m\u001b[0m\u001b[0;34m\u001b[0m\u001b[0m\n\u001b[0;32m--> 768\u001b[0;31m         return Variable._execution_engine.run_backward(  # Calls into the C++ engine to run the backward pass\n\u001b[0m\u001b[1;32m    769\u001b[0m             \u001b[0mt_outputs\u001b[0m\u001b[0;34m,\u001b[0m \u001b[0;34m*\u001b[0m\u001b[0margs\u001b[0m\u001b[0;34m,\u001b[0m \u001b[0;34m**\u001b[0m\u001b[0mkwargs\u001b[0m\u001b[0;34m\u001b[0m\u001b[0;34m\u001b[0m\u001b[0m\n\u001b[1;32m    770\u001b[0m         )  # Calls into the C++ engine to run the backward pass\n",
            "\u001b[0;31mKeyboardInterrupt\u001b[0m: "
          ]
        }
      ],
      "source": [
        "# input_dim = 11\n",
        "# output_dim = 1\n",
        "# num_layers = 2\n",
        "# dropout = 0.1\n",
        "# d_model = 64\n",
        "# nhead = 4\n",
        "\n",
        "# model = TransformerModel(input_dim=input_dim, d_model=d_model, num_layers=num_layers, nhead=nhead, dropout=dropout, output_dim=output_dim)\n",
        "\n",
        "# Set directory paths\n",
        "dpath = '/content/drive/My Drive/LAB/data/'  # Path to your data directory\n",
        "mpath = '/content/drive/My Drive/LAB/output_transformer/'  # Path to save model\n",
        "\n",
        "# Initialize dictionaries to store MAE and MSE\n",
        "mae = dict()\n",
        "mse = dict()\n",
        "\n",
        "# Get sorted list of files\n",
        "files = os.listdir(dpath)\n",
        "files.sort()\n",
        "\n",
        "# Model Training Parameters\n",
        "num_epochs = 3  # Adjust as needed\n",
        "\n",
        "# Iterate over each file and train the model\n",
        "for file in tqdm(files):\n",
        "    try:\n",
        "        df=pd.read_csv(dpath + file).set_index('Date')\n",
        "        df = df[[\"Close\"]]\n",
        "\n",
        "        scaler = MinMaxScaler(feature_range=(-1, 1))\n",
        "        df['Close'] = scaler.fit_transform(df['Close'].values.reshape(-1,1))\n",
        "\n",
        "        x_train, y_train, x_test, y_test = load_data(df)\n",
        "\n",
        "        # Convert data to tensors\n",
        "        x_train = torch.tensor(x_train, dtype=torch.float32)\n",
        "        x_test = torch.tensor(x_test, dtype=torch.float32)\n",
        "        y_train = torch.tensor(y_train, dtype=torch.float32)\n",
        "        y_test = torch.tensor(y_test, dtype=torch.float32)\n",
        "\n",
        "        # Define loss and optimizer\n",
        "        loss_fn = nn.MSELoss()\n",
        "        optimiser = torch.optim.Adam(model.parameters(), lr=0.01)\n",
        "        hist = np.zeros(num_epochs)\n",
        "\n",
        "        # Training loop\n",
        "        for t in range(num_epochs):\n",
        "            model.train()\n",
        "            y_train_pred = model(x_train)\n",
        "\n",
        "            loss = loss_fn(y_train_pred, y_train)\n",
        "            print(f\"{file}: Epoch {t}, MSE: {loss.item()}\", end='\\r')\n",
        "            hist[t] = loss.item()\n",
        "\n",
        "            # Zero out gradient\n",
        "            optimiser.zero_grad()\n",
        "\n",
        "            # Backward pass and optimize\n",
        "            loss.backward()\n",
        "            optimiser.step()\n",
        "\n",
        "        # Test the model\n",
        "        model.eval()\n",
        "        with torch.no_grad():\n",
        "            y_test_pred = model(x_test)\n",
        "\n",
        "        # Invert predictions and ground truth\n",
        "        y_train_pred = scaler.inverse_transform(y_train_pred.detach().numpy())\n",
        "        y_train = scaler.inverse_transform(y_train.detach().numpy())\n",
        "        y_test_pred = scaler.inverse_transform(y_test_pred.detach().numpy())\n",
        "        y_test = scaler.inverse_transform(y_test.detach().numpy())\n",
        "\n",
        "        # Calculate MAE and MSE\n",
        "        abse = mean_absolute_error(y_test, y_test_pred)\n",
        "        mse_value = mean_squared_error(y_test, y_test_pred)\n",
        "\n",
        "        # Store the errors in respective dictionaries\n",
        "        mae[file] = abse\n",
        "        mse[file] = mse_value\n",
        "\n",
        "    except Exception as e:\n",
        "        mae[file] = f\"ERROR: {str(e)}\"\n",
        "        mse[file] = f\"ERROR: {str(e)}\"\n",
        "\n",
        "# Save the model state\n",
        "torch.save(model.state_dict(), os.path.join(mpath, 'model_state.pth'))\n",
        "\n",
        "for key in mae:\n",
        "    if isinstance(mae[key], np.float32):\n",
        "        mae[key] = float(mae[key])\n",
        "    if isinstance(mse[key], np.float32):\n",
        "        mse[key] = float(mse[key])\n",
        "\n",
        "# Save the MAE and MSE dictionaries to files\n",
        "with open(os.path.join(mpath, 'mae_log.json'), 'w') as f:\n",
        "    json.dump(mae, f)\n",
        "\n",
        "with open(os.path.join(mpath, 'mse_log.json'), 'w') as f:\n",
        "    json.dump(mse, f)"
      ]
    },
    {
      "cell_type": "markdown",
      "id": "5f767fa3",
      "metadata": {
        "id": "5f767fa3"
      },
      "source": [
        "# Inference"
      ]
    },
    {
      "cell_type": "code",
      "execution_count": null,
      "id": "30c95183",
      "metadata": {
        "id": "30c95183"
      },
      "outputs": [],
      "source": [
        "import numpy as np\n",
        "import random\n",
        "import pandas as pd\n",
        "\n",
        "import datetime\n",
        "import math, time\n",
        "import itertools\n",
        "import datetime\n",
        "from operator import itemgetter\n",
        "from sklearn.metrics import mean_squared_error\n",
        "from sklearn.preprocessing import MinMaxScaler\n",
        "from math import sqrt\n",
        "import torch\n",
        "import torch.nn as nn\n",
        "from torch.autograd import Variable\n",
        "\n",
        "import matplotlib.pyplot as plt\n",
        "import os"
      ]
    },
    {
      "cell_type": "code",
      "execution_count": null,
      "id": "0073cdda",
      "metadata": {
        "id": "0073cdda"
      },
      "outputs": [],
      "source": [
        "import matplotlib.dates as mdates\n",
        "import matplotlib.pyplot as plt\n",
        "from sklearn.metrics import mean_absolute_percentage_error as mape\n",
        "from tqdm import tqdm"
      ]
    },
    {
      "cell_type": "code",
      "execution_count": null,
      "id": "1d47fea6",
      "metadata": {
        "id": "1d47fea6"
      },
      "outputs": [],
      "source": [
        "# # Model Parameters\n",
        "# input_dim = 11\n",
        "# d_model = 64\n",
        "# num_layers = 2\n",
        "# nhead = 4\n",
        "# dropout = 0.1\n",
        "# output_dim = 1\n",
        "\n",
        "# # Initialize the model\n",
        "# model = TransformerModel(input_dim=input_dim, d_model=d_model, num_layers=num_layers, nhead=nhead, dropout=dropout, output_dim=output_dim)\n",
        "\n",
        "# Load the trained model\n",
        "model.load_state_dict(torch.load('/content/drive/My Drive/LAB/output_transformer/model_state.pth'))\n",
        "model.eval()\n",
        "\n",
        "log = {}\n",
        "\n",
        "# Function to perform inference on a single file\n",
        "def infer(file):\n",
        "    dpath = \"/content/drive/My Drive/LAB/data/\"\n",
        "    mpath = '/content/drive/My Drive/LAB/output_transformer/'\n",
        "\n",
        "    df=pd.read_csv(dpath + file).set_index('Date')\n",
        "    df = df[[\"Close\"]]\n",
        "\n",
        "    scaler = MinMaxScaler(feature_range=(-1, 1))\n",
        "    df['Close'] = scaler.fit_transform(df['Close'].values.reshape(-1,1))\n",
        "\n",
        "    x_train, y_train, x_test, y_test = load_data(df)\n",
        "\n",
        "    x_train = torch.from_numpy(x_train).type(torch.Tensor)\n",
        "    x_test = torch.from_numpy(x_test).type(torch.Tensor)\n",
        "    y_train = torch.from_numpy(y_train).type(torch.Tensor)\n",
        "    y_test = torch.from_numpy(y_test).type(torch.Tensor)\n",
        "\n",
        "    with torch.no_grad():\n",
        "        y_train_pred = model(x_train)\n",
        "        y_test_pred = model(x_test)\n",
        "\n",
        "    # Inverting the predictions and ground truth values back to the original scale\n",
        "    y_train_pred = scaler.inverse_transform(y_train_pred.detach().numpy())\n",
        "    y_train = scaler.inverse_transform(y_train.detach().numpy())\n",
        "    y_test_pred = scaler.inverse_transform(y_test_pred.detach().numpy())\n",
        "    y_test = scaler.inverse_transform(y_test.detach().numpy())\n",
        "\n",
        "    # Plotting the results\n",
        "    plt.figure(figsize=(15, 6))\n",
        "    plt.plot(df.index[-len(y_test):], y_test, color='red', label='Real Stock Price')\n",
        "    plt.plot(df.index[-len(y_test):], y_test_pred, color='blue', label='Predicted Stock Price')\n",
        "    plt.title(f'{file} Stock Price Prediction')\n",
        "    plt.xlabel('Time')\n",
        "    plt.ylabel('Stock Price')\n",
        "    plt.legend()\n",
        "    plt.savefig(mpath + file.split('.')[0] + '_transformer.png')\n",
        "    plt.show()\n",
        "\n",
        "\n",
        "    mae_value = mean_absolute_error(y_test, y_test_pred)\n",
        "    mse_value = mean_squared_error(y_test, y_test_pred)\n",
        "\n",
        "    mae[file] = mae_value\n",
        "    mse[file] = mse_value\n",
        "\n"
      ]
    },
    {
      "cell_type": "markdown",
      "id": "B3-2SHCSfcSt",
      "metadata": {
        "id": "B3-2SHCSfcSt"
      },
      "source": []
    },
    {
      "cell_type": "code",
      "execution_count": null,
      "id": "bc929684",
      "metadata": {
        "id": "bc929684"
      },
      "outputs": [],
      "source": [
        "from tqdm import tqdm\n",
        "\n",
        "# Assuming 'files' is a list of filenames\n",
        "for file in tqdm(files):\n",
        "    try:\n",
        "        result = infer(file)\n",
        "        log.update(result)  # Store results from inference\n",
        "    except Exception as e:\n",
        "        print(f\"An error occurred with file {file}: {str(e)}\")\n",
        "        continue\n",
        "\n",
        "# Optionally, save the log to a file for later analysis\n",
        "with open('/content/drive/My Drive/LAB/output_transformer/inference_log.json', 'w') as f:\n",
        "    json.dump(log, f)\n"
      ]
    },
    {
      "cell_type": "code",
      "execution_count": null,
      "id": "b77eUamofRq5",
      "metadata": {
        "id": "b77eUamofRq5"
      },
      "outputs": [],
      "source": [
        "import json\n",
        "with open('/content/drive/My Drive/LAB/output_transformer/mae_log.json', 'w') as f:\n",
        "    json.dump(mae, f)\n",
        "\n",
        "with open('/content/drive/My Drive/LAB/output_transformer/mse_log.json', 'w') as f:\n",
        "    json.dump(mse, f)"
      ]
    },
    {
      "cell_type": "code",
      "source": [],
      "metadata": {
        "id": "5wwvRKZtWj7y"
      },
      "id": "5wwvRKZtWj7y",
      "execution_count": null,
      "outputs": []
    }
  ],
  "metadata": {
    "colab": {
      "provenance": []
    },
    "kernelspec": {
      "display_name": "Python 3",
      "name": "python3"
    },
    "language_info": {
      "codemirror_mode": {
        "name": "ipython",
        "version": 3
      },
      "file_extension": ".py",
      "mimetype": "text/x-python",
      "name": "python",
      "nbconvert_exporter": "python",
      "pygments_lexer": "ipython3",
      "version": "3.12.3"
    }
  },
  "nbformat": 4,
  "nbformat_minor": 5
}